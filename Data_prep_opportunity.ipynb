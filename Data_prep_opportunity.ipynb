{
 "cells": [
  {
   "cell_type": "code",
   "execution_count": 1,
   "metadata": {
    "id": "EY5KR1a3MMfh"
   },
   "outputs": [
    {
     "name": "stderr",
     "output_type": "stream",
     "text": [
      "/Users/apple/opt/anaconda3/lib/python3.9/site-packages/scipy/__init__.py:146: UserWarning: A NumPy version >=1.16.5 and <1.23.0 is required for this version of SciPy (detected version 1.26.2\n",
      "  warnings.warn(f\"A NumPy version >={np_minversion} and <{np_maxversion}\"\n"
     ]
    }
   ],
   "source": [
    "import pandas as pd\n",
    "import numpy as np\n",
    "import matplotlib.pyplot as plt\n",
    "import seaborn as sns\n",
    "from sklearn.preprocessing import LabelEncoder"
   ]
  },
  {
   "cell_type": "code",
   "execution_count": 2,
   "metadata": {
    "id": "aahgew-TMn1e"
   },
   "outputs": [],
   "source": [
    "df = pd.read_csv('Opportunity Wise Data.csv')"
   ]
  },
  {
   "cell_type": "code",
   "execution_count": 3,
   "metadata": {
    "colab": {
     "base_uri": "https://localhost:8080/"
    },
    "id": "hSjum0NsMtjA",
    "outputId": "ad1518ff-e138-499f-9d68-f4012a157a36"
   },
   "outputs": [
    {
     "name": "stdout",
     "output_type": "stream",
     "text": [
      "<class 'pandas.core.frame.DataFrame'>\n",
      "RangeIndex: 20322 entries, 0 to 20321\n",
      "Data columns (total 21 columns):\n",
      " #   Column                    Non-Null Count  Dtype  \n",
      "---  ------                    --------------  -----  \n",
      " 0   Profile Id                20322 non-null  object \n",
      " 1   Opportunity Id            20322 non-null  object \n",
      " 2   Opportunity Name          20322 non-null  object \n",
      " 3   Opportunity Category      20322 non-null  object \n",
      " 4   Opportunity End Date      20322 non-null  object \n",
      " 5   Gender                    20321 non-null  object \n",
      " 6   City                      20321 non-null  object \n",
      " 7   State                     20316 non-null  object \n",
      " 8   Country                   20322 non-null  object \n",
      " 9   Zip Code                  20320 non-null  object \n",
      " 10  Graduation Date(YYYY MM)  20321 non-null  object \n",
      " 11  Current Student Status    20321 non-null  object \n",
      " 12  Current/Intended Major    20318 non-null  object \n",
      " 13  Status Description        20322 non-null  object \n",
      " 14  Apply Date                20322 non-null  object \n",
      " 15  Opportunity Start Date    19518 non-null  object \n",
      " 16  Reward Amount             2521 non-null   float64\n",
      " 17  Badge Id                  2521 non-null   object \n",
      " 18  Badge Name                2521 non-null   object \n",
      " 19  Skill Points Earned       2521 non-null   float64\n",
      " 20  Skills Earned             2521 non-null   object \n",
      "dtypes: float64(2), object(19)\n",
      "memory usage: 3.3+ MB\n"
     ]
    }
   ],
   "source": [
    "df.info()"
   ]
  },
  {
   "cell_type": "code",
   "execution_count": 4,
   "metadata": {
    "colab": {
     "base_uri": "https://localhost:8080/",
     "height": 654
    },
    "id": "PVCgnQDJM9RE",
    "outputId": "d1257a06-5e04-43d2-d004-991103fa8f18"
   },
   "outputs": [
    {
     "data": {
      "text/html": [
       "<div>\n",
       "<style scoped>\n",
       "    .dataframe tbody tr th:only-of-type {\n",
       "        vertical-align: middle;\n",
       "    }\n",
       "\n",
       "    .dataframe tbody tr th {\n",
       "        vertical-align: top;\n",
       "    }\n",
       "\n",
       "    .dataframe thead th {\n",
       "        text-align: right;\n",
       "    }\n",
       "</style>\n",
       "<table border=\"1\" class=\"dataframe\">\n",
       "  <thead>\n",
       "    <tr style=\"text-align: right;\">\n",
       "      <th></th>\n",
       "      <th>Profile Id</th>\n",
       "      <th>Opportunity Id</th>\n",
       "      <th>Opportunity Name</th>\n",
       "      <th>Opportunity Category</th>\n",
       "      <th>Opportunity End Date</th>\n",
       "      <th>Gender</th>\n",
       "      <th>City</th>\n",
       "      <th>State</th>\n",
       "      <th>Country</th>\n",
       "      <th>Zip Code</th>\n",
       "      <th>...</th>\n",
       "      <th>Current Student Status</th>\n",
       "      <th>Current/Intended Major</th>\n",
       "      <th>Status Description</th>\n",
       "      <th>Apply Date</th>\n",
       "      <th>Opportunity Start Date</th>\n",
       "      <th>Reward Amount</th>\n",
       "      <th>Badge Id</th>\n",
       "      <th>Badge Name</th>\n",
       "      <th>Skill Points Earned</th>\n",
       "      <th>Skills Earned</th>\n",
       "    </tr>\n",
       "  </thead>\n",
       "  <tbody>\n",
       "    <tr>\n",
       "      <th>0</th>\n",
       "      <td>31ce84c2-2bd1-40ba-b2d8-f164fe125306</td>\n",
       "      <td>00000000-0G4F-19XB-EXPW-KS8F3N</td>\n",
       "      <td>Statement of Purpose (SOP) Writing Workshop</td>\n",
       "      <td>Event</td>\n",
       "      <td>Jan 05, 2023, 18:58:39</td>\n",
       "      <td>Male</td>\n",
       "      <td>Dhaka</td>\n",
       "      <td>Savar</td>\n",
       "      <td>Bangladesh</td>\n",
       "      <td>1342</td>\n",
       "      <td>...</td>\n",
       "      <td>High School Student</td>\n",
       "      <td>Data Science</td>\n",
       "      <td>Not Started</td>\n",
       "      <td>Oct 03, 2022, 17:29:17</td>\n",
       "      <td>Jan 05, 2023, 18:52:39</td>\n",
       "      <td>NaN</td>\n",
       "      <td>NaN</td>\n",
       "      <td>NaN</td>\n",
       "      <td>NaN</td>\n",
       "      <td>NaN</td>\n",
       "    </tr>\n",
       "    <tr>\n",
       "      <th>1</th>\n",
       "      <td>36814990-f854-4f76-8c63-91f27567d080</td>\n",
       "      <td>00000000-0G4F-19XB-EXPW-KS8F3N</td>\n",
       "      <td>Statement of Purpose (SOP) Writing Workshop</td>\n",
       "      <td>Event</td>\n",
       "      <td>Jan 05, 2023, 18:58:39</td>\n",
       "      <td>Female</td>\n",
       "      <td>Amritsar</td>\n",
       "      <td>Punjab</td>\n",
       "      <td>Afghanistan</td>\n",
       "      <td>123242</td>\n",
       "      <td>...</td>\n",
       "      <td>Undergraduate Student</td>\n",
       "      <td>Otheraassss</td>\n",
       "      <td>Rewards Award</td>\n",
       "      <td>Jan 05, 2023, 18:58:37</td>\n",
       "      <td>Jan 05, 2023, 18:52:39</td>\n",
       "      <td>200.0</td>\n",
       "      <td>00000000-0GSP-A3RB-BT5G-1ECTG9</td>\n",
       "      <td>Statement of Purpose (SOP) Writing Workshop</td>\n",
       "      <td>10.0</td>\n",
       "      <td>[\"Critical Thinking\",\"Creative Thinking\",\"Comm...</td>\n",
       "    </tr>\n",
       "    <tr>\n",
       "      <th>2</th>\n",
       "      <td>8154328c-f8fe-4bd1-af05-783e140f68b5</td>\n",
       "      <td>00000000-0G4F-19XB-EXPW-KS8F3N</td>\n",
       "      <td>Statement of Purpose (SOP) Writing Workshop</td>\n",
       "      <td>Event</td>\n",
       "      <td>Jan 05, 2023, 18:58:39</td>\n",
       "      <td>Female</td>\n",
       "      <td>Satna</td>\n",
       "      <td>Madhya pradesh</td>\n",
       "      <td>India</td>\n",
       "      <td>485001</td>\n",
       "      <td>...</td>\n",
       "      <td>High School Student</td>\n",
       "      <td>Computer Science and Engineering</td>\n",
       "      <td>Not Started</td>\n",
       "      <td>Oct 04, 2022, 08:10:07</td>\n",
       "      <td>Jan 05, 2023, 18:52:39</td>\n",
       "      <td>NaN</td>\n",
       "      <td>NaN</td>\n",
       "      <td>NaN</td>\n",
       "      <td>NaN</td>\n",
       "      <td>NaN</td>\n",
       "    </tr>\n",
       "    <tr>\n",
       "      <th>3</th>\n",
       "      <td>a83abad6-db1e-44c4-a8f4-9e397e282d73</td>\n",
       "      <td>00000000-0G4F-19XB-EXPW-KS8F3N</td>\n",
       "      <td>Statement of Purpose (SOP) Writing Workshop</td>\n",
       "      <td>Event</td>\n",
       "      <td>Jan 05, 2023, 18:58:39</td>\n",
       "      <td>Male</td>\n",
       "      <td>Hyderabad</td>\n",
       "      <td>Telangana</td>\n",
       "      <td>India</td>\n",
       "      <td>500039</td>\n",
       "      <td>...</td>\n",
       "      <td>Graduate Program Student</td>\n",
       "      <td>Computer Science</td>\n",
       "      <td>Not Started</td>\n",
       "      <td>Oct 05, 2022, 13:41:47</td>\n",
       "      <td>Jan 05, 2023, 18:52:39</td>\n",
       "      <td>NaN</td>\n",
       "      <td>NaN</td>\n",
       "      <td>NaN</td>\n",
       "      <td>NaN</td>\n",
       "      <td>NaN</td>\n",
       "    </tr>\n",
       "    <tr>\n",
       "      <th>4</th>\n",
       "      <td>c2b8a15f-2ba3-41e4-a553-7ca68b0d4a54</td>\n",
       "      <td>00000000-0G4F-19XB-EXPW-KS8F3N</td>\n",
       "      <td>Statement of Purpose (SOP) Writing Workshop</td>\n",
       "      <td>Event</td>\n",
       "      <td>Jan 05, 2023, 18:58:39</td>\n",
       "      <td>Male</td>\n",
       "      <td>Bangalore</td>\n",
       "      <td>Karnataka</td>\n",
       "      <td>India</td>\n",
       "      <td>560105</td>\n",
       "      <td>...</td>\n",
       "      <td>Undergraduate Student</td>\n",
       "      <td>jknhk</td>\n",
       "      <td>Not Started</td>\n",
       "      <td>Oct 05, 2022, 11:07:17</td>\n",
       "      <td>Jan 05, 2023, 18:52:39</td>\n",
       "      <td>NaN</td>\n",
       "      <td>NaN</td>\n",
       "      <td>NaN</td>\n",
       "      <td>NaN</td>\n",
       "      <td>NaN</td>\n",
       "    </tr>\n",
       "  </tbody>\n",
       "</table>\n",
       "<p>5 rows × 21 columns</p>\n",
       "</div>"
      ],
      "text/plain": [
       "                             Profile Id                  Opportunity Id  \\\n",
       "0  31ce84c2-2bd1-40ba-b2d8-f164fe125306  00000000-0G4F-19XB-EXPW-KS8F3N   \n",
       "1  36814990-f854-4f76-8c63-91f27567d080  00000000-0G4F-19XB-EXPW-KS8F3N   \n",
       "2  8154328c-f8fe-4bd1-af05-783e140f68b5  00000000-0G4F-19XB-EXPW-KS8F3N   \n",
       "3  a83abad6-db1e-44c4-a8f4-9e397e282d73  00000000-0G4F-19XB-EXPW-KS8F3N   \n",
       "4  c2b8a15f-2ba3-41e4-a553-7ca68b0d4a54  00000000-0G4F-19XB-EXPW-KS8F3N   \n",
       "\n",
       "                              Opportunity Name Opportunity Category  \\\n",
       "0  Statement of Purpose (SOP) Writing Workshop                Event   \n",
       "1  Statement of Purpose (SOP) Writing Workshop                Event   \n",
       "2  Statement of Purpose (SOP) Writing Workshop                Event   \n",
       "3  Statement of Purpose (SOP) Writing Workshop                Event   \n",
       "4  Statement of Purpose (SOP) Writing Workshop                Event   \n",
       "\n",
       "     Opportunity End Date  Gender       City           State      Country  \\\n",
       "0  Jan 05, 2023, 18:58:39    Male      Dhaka           Savar   Bangladesh   \n",
       "1  Jan 05, 2023, 18:58:39  Female   Amritsar          Punjab  Afghanistan   \n",
       "2  Jan 05, 2023, 18:58:39  Female      Satna  Madhya pradesh        India   \n",
       "3  Jan 05, 2023, 18:58:39    Male  Hyderabad       Telangana        India   \n",
       "4  Jan 05, 2023, 18:58:39    Male  Bangalore       Karnataka        India   \n",
       "\n",
       "  Zip Code  ...    Current Student Status            Current/Intended Major  \\\n",
       "0     1342  ...       High School Student                      Data Science   \n",
       "1   123242  ...     Undergraduate Student                       Otheraassss   \n",
       "2   485001  ...       High School Student  Computer Science and Engineering   \n",
       "3   500039  ...  Graduate Program Student                  Computer Science   \n",
       "4   560105  ...     Undergraduate Student                             jknhk   \n",
       "\n",
       "  Status Description              Apply Date  Opportunity Start Date  \\\n",
       "0        Not Started  Oct 03, 2022, 17:29:17  Jan 05, 2023, 18:52:39   \n",
       "1      Rewards Award  Jan 05, 2023, 18:58:37  Jan 05, 2023, 18:52:39   \n",
       "2        Not Started  Oct 04, 2022, 08:10:07  Jan 05, 2023, 18:52:39   \n",
       "3        Not Started  Oct 05, 2022, 13:41:47  Jan 05, 2023, 18:52:39   \n",
       "4        Not Started  Oct 05, 2022, 11:07:17  Jan 05, 2023, 18:52:39   \n",
       "\n",
       "  Reward Amount                        Badge Id  \\\n",
       "0           NaN                             NaN   \n",
       "1         200.0  00000000-0GSP-A3RB-BT5G-1ECTG9   \n",
       "2           NaN                             NaN   \n",
       "3           NaN                             NaN   \n",
       "4           NaN                             NaN   \n",
       "\n",
       "                                    Badge Name Skill Points Earned  \\\n",
       "0                                          NaN                 NaN   \n",
       "1  Statement of Purpose (SOP) Writing Workshop                10.0   \n",
       "2                                          NaN                 NaN   \n",
       "3                                          NaN                 NaN   \n",
       "4                                          NaN                 NaN   \n",
       "\n",
       "                                       Skills Earned  \n",
       "0                                                NaN  \n",
       "1  [\"Critical Thinking\",\"Creative Thinking\",\"Comm...  \n",
       "2                                                NaN  \n",
       "3                                                NaN  \n",
       "4                                                NaN  \n",
       "\n",
       "[5 rows x 21 columns]"
      ]
     },
     "execution_count": 4,
     "metadata": {},
     "output_type": "execute_result"
    }
   ],
   "source": [
    "df.head()"
   ]
  },
  {
   "cell_type": "code",
   "execution_count": 5,
   "metadata": {
    "colab": {
     "base_uri": "https://localhost:8080/"
    },
    "id": "wCLffILiVO-4",
    "outputId": "d297dfaa-bdf9-446c-ee36-577149a96c82"
   },
   "outputs": [
    {
     "data": {
      "text/plain": [
       "Profile Id                  11481\n",
       "Opportunity Id                 33\n",
       "Opportunity Name               33\n",
       "Opportunity Category            5\n",
       "Opportunity End Date           29\n",
       "Gender                          4\n",
       "City                         3141\n",
       "State                        1371\n",
       "Country                       108\n",
       "Zip Code                     5190\n",
       "Graduation Date(YYYY MM)      321\n",
       "Current Student Status          4\n",
       "Current/Intended Major        969\n",
       "Status Description              8\n",
       "Apply Date                  20277\n",
       "Opportunity Start Date         51\n",
       "Reward Amount                  10\n",
       "Badge Id                       56\n",
       "Badge Name                     56\n",
       "Skill Points Earned            31\n",
       "Skills Earned                  24\n",
       "dtype: int64"
      ]
     },
     "execution_count": 5,
     "metadata": {},
     "output_type": "execute_result"
    }
   ],
   "source": [
    "df.nunique()"
   ]
  },
  {
   "cell_type": "code",
   "execution_count": 6,
   "metadata": {
    "colab": {
     "base_uri": "https://localhost:8080/"
    },
    "id": "os9NIPguVWGO",
    "outputId": "08967ffd-0a9f-4290-ca96-4078314c349b"
   },
   "outputs": [
    {
     "data": {
      "text/plain": [
       "array(['Not Started', 'Rewards Award', 'Team Allocated', 'Started',\n",
       "       'Withdraw', 'Dropped Out', 'Rejected', 'Applied'], dtype=object)"
      ]
     },
     "execution_count": 6,
     "metadata": {},
     "output_type": "execute_result"
    }
   ],
   "source": [
    "df['Status Description'].unique()"
   ]
  },
  {
   "cell_type": "code",
   "execution_count": 8,
   "metadata": {
    "colab": {
     "base_uri": "https://localhost:8080/",
     "height": 300
    },
    "id": "yI3HNrP6NJ1O",
    "outputId": "176ad421-0ff3-4e63-f745-fa6c448e0ece"
   },
   "outputs": [
    {
     "data": {
      "text/html": [
       "<div>\n",
       "<style scoped>\n",
       "    .dataframe tbody tr th:only-of-type {\n",
       "        vertical-align: middle;\n",
       "    }\n",
       "\n",
       "    .dataframe tbody tr th {\n",
       "        vertical-align: top;\n",
       "    }\n",
       "\n",
       "    .dataframe thead th {\n",
       "        text-align: right;\n",
       "    }\n",
       "</style>\n",
       "<table border=\"1\" class=\"dataframe\">\n",
       "  <thead>\n",
       "    <tr style=\"text-align: right;\">\n",
       "      <th></th>\n",
       "      <th>Reward Amount</th>\n",
       "      <th>Skill Points Earned</th>\n",
       "    </tr>\n",
       "  </thead>\n",
       "  <tbody>\n",
       "    <tr>\n",
       "      <th>count</th>\n",
       "      <td>2521.000000</td>\n",
       "      <td>2521.000000</td>\n",
       "    </tr>\n",
       "    <tr>\n",
       "      <th>mean</th>\n",
       "      <td>1081.261404</td>\n",
       "      <td>1186.964697</td>\n",
       "    </tr>\n",
       "    <tr>\n",
       "      <th>std</th>\n",
       "      <td>927.251398</td>\n",
       "      <td>399.172150</td>\n",
       "    </tr>\n",
       "    <tr>\n",
       "      <th>min</th>\n",
       "      <td>50.000000</td>\n",
       "      <td>10.000000</td>\n",
       "    </tr>\n",
       "    <tr>\n",
       "      <th>25%</th>\n",
       "      <td>500.000000</td>\n",
       "      <td>1182.000000</td>\n",
       "    </tr>\n",
       "    <tr>\n",
       "      <th>50%</th>\n",
       "      <td>500.000000</td>\n",
       "      <td>1182.000000</td>\n",
       "    </tr>\n",
       "    <tr>\n",
       "      <th>75%</th>\n",
       "      <td>2500.000000</td>\n",
       "      <td>1182.000000</td>\n",
       "    </tr>\n",
       "    <tr>\n",
       "      <th>max</th>\n",
       "      <td>2500.000000</td>\n",
       "      <td>1776.000000</td>\n",
       "    </tr>\n",
       "  </tbody>\n",
       "</table>\n",
       "</div>"
      ],
      "text/plain": [
       "       Reward Amount  Skill Points Earned\n",
       "count    2521.000000          2521.000000\n",
       "mean     1081.261404          1186.964697\n",
       "std       927.251398           399.172150\n",
       "min        50.000000            10.000000\n",
       "25%       500.000000          1182.000000\n",
       "50%       500.000000          1182.000000\n",
       "75%      2500.000000          1182.000000\n",
       "max      2500.000000          1776.000000"
      ]
     },
     "execution_count": 8,
     "metadata": {},
     "output_type": "execute_result"
    }
   ],
   "source": [
    "df.describe()"
   ]
  },
  {
   "cell_type": "code",
   "execution_count": 9,
   "metadata": {
    "colab": {
     "base_uri": "https://localhost:8080/"
    },
    "id": "-gBOG5HVNwqy",
    "outputId": "46ec049d-fe9f-43ec-82f3-2a5e0b81a3ba"
   },
   "outputs": [
    {
     "name": "stdout",
     "output_type": "stream",
     "text": [
      "                          Missing Values  Percentage Missing\n",
      "Profile Id                             0            0.000000\n",
      "Opportunity Id                         0            0.000000\n",
      "Opportunity Name                       0            0.000000\n",
      "Opportunity Category                   0            0.000000\n",
      "Opportunity End Date                   0            0.000000\n",
      "Gender                                 1            0.004921\n",
      "City                                   1            0.004921\n",
      "State                                  6            0.029525\n",
      "Country                                0            0.000000\n",
      "Zip Code                               2            0.009842\n",
      "Graduation Date(YYYY MM)               1            0.004921\n",
      "Current Student Status                 1            0.004921\n",
      "Current/Intended Major                 4            0.019683\n",
      "Status Description                     0            0.000000\n",
      "Apply Date                             0            0.000000\n",
      "Opportunity Start Date               804            3.956304\n",
      "Reward Amount                      17801           87.594725\n",
      "Badge Id                           17801           87.594725\n",
      "Badge Name                         17801           87.594725\n",
      "Skill Points Earned                17801           87.594725\n",
      "Skills Earned                      17801           87.594725\n"
     ]
    }
   ],
   "source": [
    "# Determine missing values\n",
    "missing_values = df.isnull().sum()\n",
    "\n",
    "# Calculate the percentage of missing values\n",
    "total_values = df.shape[0]\n",
    "percentage_missing = (missing_values / total_values) * 100\n",
    "\n",
    "# Create a summary table\n",
    "df_summary_table = pd.DataFrame({'Missing Values': missing_values, 'Percentage Missing': percentage_missing})\n",
    "\n",
    "print(df_summary_table)"
   ]
  },
  {
   "cell_type": "code",
   "execution_count": 10,
   "metadata": {
    "id": "CSHu3PMCO3NQ"
   },
   "outputs": [],
   "source": [
    "#Since missing values is more that 50% we will drop those columns\n",
    "df = df.drop(columns=['Reward Amount', 'Badge Id', 'Badge Name', 'Skill Points Earned', 'Skills Earned'])"
   ]
  },
  {
   "cell_type": "code",
   "execution_count": null,
   "metadata": {
    "id": "YgI8pNHGPiaI"
   },
   "outputs": [],
   "source": [
    "df = df.dropna()"
   ]
  },
  {
   "cell_type": "code",
   "execution_count": 11,
   "metadata": {
    "colab": {
     "base_uri": "https://localhost:8080/"
    },
    "id": "evl8WcvIPqgt",
    "outputId": "bece2239-eea6-4224-aeab-39c786860eb4"
   },
   "outputs": [
    {
     "name": "stdout",
     "output_type": "stream",
     "text": [
      "                          Missing Values  Percentage Missing\n",
      "Profile Id                             0            0.000000\n",
      "Opportunity Id                         0            0.000000\n",
      "Opportunity Name                       0            0.000000\n",
      "Opportunity Category                   0            0.000000\n",
      "Opportunity End Date                   0            0.000000\n",
      "Gender                                 1            0.004921\n",
      "City                                   1            0.004921\n",
      "State                                  6            0.029525\n",
      "Country                                0            0.000000\n",
      "Zip Code                               2            0.009842\n",
      "Graduation Date(YYYY MM)               1            0.004921\n",
      "Current Student Status                 1            0.004921\n",
      "Current/Intended Major                 4            0.019683\n",
      "Status Description                     0            0.000000\n",
      "Apply Date                             0            0.000000\n",
      "Opportunity Start Date               804            3.956304\n"
     ]
    }
   ],
   "source": [
    "# Determine missing values\n",
    "missing_values = df.isnull().sum()\n",
    "\n",
    "# Calculate the percentage of missing values\n",
    "total_values = df.shape[0]\n",
    "percentage_missing = (missing_values / total_values) * 100\n",
    "\n",
    "# Create a summary table\n",
    "df_summary_table = pd.DataFrame({'Missing Values': missing_values, 'Percentage Missing': percentage_missing})\n",
    "\n",
    "print(df_summary_table)"
   ]
  },
  {
   "cell_type": "code",
   "execution_count": 12,
   "metadata": {
    "colab": {
     "base_uri": "https://localhost:8080/"
    },
    "id": "VbtfDZFLPt1J",
    "outputId": "73bb9b62-1450-4f2b-8c8b-6d8cecb42346"
   },
   "outputs": [
    {
     "name": "stdout",
     "output_type": "stream",
     "text": [
      "<class 'pandas.core.frame.DataFrame'>\n",
      "RangeIndex: 20322 entries, 0 to 20321\n",
      "Data columns (total 16 columns):\n",
      " #   Column                    Non-Null Count  Dtype \n",
      "---  ------                    --------------  ----- \n",
      " 0   Profile Id                20322 non-null  object\n",
      " 1   Opportunity Id            20322 non-null  object\n",
      " 2   Opportunity Name          20322 non-null  object\n",
      " 3   Opportunity Category      20322 non-null  object\n",
      " 4   Opportunity End Date      20322 non-null  object\n",
      " 5   Gender                    20321 non-null  object\n",
      " 6   City                      20321 non-null  object\n",
      " 7   State                     20316 non-null  object\n",
      " 8   Country                   20322 non-null  object\n",
      " 9   Zip Code                  20320 non-null  object\n",
      " 10  Graduation Date(YYYY MM)  20321 non-null  object\n",
      " 11  Current Student Status    20321 non-null  object\n",
      " 12  Current/Intended Major    20318 non-null  object\n",
      " 13  Status Description        20322 non-null  object\n",
      " 14  Apply Date                20322 non-null  object\n",
      " 15  Opportunity Start Date    19518 non-null  object\n",
      "dtypes: object(16)\n",
      "memory usage: 2.5+ MB\n"
     ]
    }
   ],
   "source": [
    "df.info()"
   ]
  },
  {
   "cell_type": "markdown",
   "metadata": {
    "id": "nItS--sSQbOS"
   },
   "source": [
    "#Handling Outliers and Anomalies\n",
    "Since the data is all categorical not numerical. Therefore, the concept of outliers doesn’t directly apply here as it does for numerical data.\n",
    "\n",
    "\n",
    "#Normalize or Scale Relevant Features\n",
    "Similarly,the concept of normalization doesn’t apply here as it does for numerical data.\n",
    "\n",
    "#Addressing Data Quality Issues\n"
   ]
  },
  {
   "cell_type": "code",
   "execution_count": 13,
   "metadata": {
    "colab": {
     "base_uri": "https://localhost:8080/",
     "height": 281
    },
    "id": "gJoPugjARIb8",
    "outputId": "49f20921-8be2-4aaa-eb07-bc0f1ef8f730"
   },
   "outputs": [
    {
     "data": {
      "text/html": [
       "<div>\n",
       "<style scoped>\n",
       "    .dataframe tbody tr th:only-of-type {\n",
       "        vertical-align: middle;\n",
       "    }\n",
       "\n",
       "    .dataframe tbody tr th {\n",
       "        vertical-align: top;\n",
       "    }\n",
       "\n",
       "    .dataframe thead th {\n",
       "        text-align: right;\n",
       "    }\n",
       "</style>\n",
       "<table border=\"1\" class=\"dataframe\">\n",
       "  <thead>\n",
       "    <tr style=\"text-align: right;\">\n",
       "      <th></th>\n",
       "      <th>Profile Id</th>\n",
       "      <th>Opportunity Id</th>\n",
       "      <th>Opportunity Name</th>\n",
       "      <th>Opportunity Category</th>\n",
       "      <th>Opportunity End Date</th>\n",
       "      <th>Gender</th>\n",
       "      <th>City</th>\n",
       "      <th>State</th>\n",
       "      <th>Country</th>\n",
       "      <th>Zip Code</th>\n",
       "      <th>Graduation Date(YYYY MM)</th>\n",
       "      <th>Current Student Status</th>\n",
       "      <th>Current/Intended Major</th>\n",
       "      <th>Status Description</th>\n",
       "      <th>Apply Date</th>\n",
       "      <th>Opportunity Start Date</th>\n",
       "    </tr>\n",
       "  </thead>\n",
       "  <tbody>\n",
       "    <tr>\n",
       "      <th>count</th>\n",
       "      <td>20322</td>\n",
       "      <td>20322</td>\n",
       "      <td>20322</td>\n",
       "      <td>20322</td>\n",
       "      <td>20322</td>\n",
       "      <td>20321</td>\n",
       "      <td>20321</td>\n",
       "      <td>20316</td>\n",
       "      <td>20322</td>\n",
       "      <td>20320</td>\n",
       "      <td>20321</td>\n",
       "      <td>20321</td>\n",
       "      <td>20318</td>\n",
       "      <td>20322</td>\n",
       "      <td>20322</td>\n",
       "      <td>19518</td>\n",
       "    </tr>\n",
       "    <tr>\n",
       "      <th>unique</th>\n",
       "      <td>11481</td>\n",
       "      <td>33</td>\n",
       "      <td>33</td>\n",
       "      <td>5</td>\n",
       "      <td>29</td>\n",
       "      <td>4</td>\n",
       "      <td>3141</td>\n",
       "      <td>1371</td>\n",
       "      <td>108</td>\n",
       "      <td>5190</td>\n",
       "      <td>321</td>\n",
       "      <td>4</td>\n",
       "      <td>969</td>\n",
       "      <td>8</td>\n",
       "      <td>20277</td>\n",
       "      <td>51</td>\n",
       "    </tr>\n",
       "    <tr>\n",
       "      <th>top</th>\n",
       "      <td>18e1e6bc-fada-4b09-bf52-ab45daf318f4</td>\n",
       "      <td>00000000-0GWQ-AXC5-X45C-2MHJ28</td>\n",
       "      <td>Data Visualization</td>\n",
       "      <td>Internship</td>\n",
       "      <td>Jan 01, 2024, 03:30:46</td>\n",
       "      <td>Male</td>\n",
       "      <td>Saint Louis</td>\n",
       "      <td>Missouri</td>\n",
       "      <td>India</td>\n",
       "      <td>63108</td>\n",
       "      <td>2025-05</td>\n",
       "      <td>Graduate Program Student</td>\n",
       "      <td>Computer Science</td>\n",
       "      <td>Team Allocated</td>\n",
       "      <td>Aug 29, 2023, 05:30:24</td>\n",
       "      <td>Aug 07, 2023, 04:30:00</td>\n",
       "    </tr>\n",
       "    <tr>\n",
       "      <th>freq</th>\n",
       "      <td>22</td>\n",
       "      <td>5687</td>\n",
       "      <td>5687</td>\n",
       "      <td>15360</td>\n",
       "      <td>14938</td>\n",
       "      <td>12240</td>\n",
       "      <td>1326</td>\n",
       "      <td>2115</td>\n",
       "      <td>9132</td>\n",
       "      <td>1831</td>\n",
       "      <td>2195</td>\n",
       "      <td>9297</td>\n",
       "      <td>2654</td>\n",
       "      <td>14206</td>\n",
       "      <td>3</td>\n",
       "      <td>2323</td>\n",
       "    </tr>\n",
       "  </tbody>\n",
       "</table>\n",
       "</div>"
      ],
      "text/plain": [
       "                                  Profile Id                  Opportunity Id  \\\n",
       "count                                  20322                           20322   \n",
       "unique                                 11481                              33   \n",
       "top     18e1e6bc-fada-4b09-bf52-ab45daf318f4  00000000-0GWQ-AXC5-X45C-2MHJ28   \n",
       "freq                                      22                            5687   \n",
       "\n",
       "          Opportunity Name Opportunity Category    Opportunity End Date  \\\n",
       "count                20322                20322                   20322   \n",
       "unique                  33                    5                      29   \n",
       "top     Data Visualization           Internship  Jan 01, 2024, 03:30:46   \n",
       "freq                  5687                15360                   14938   \n",
       "\n",
       "       Gender         City     State Country Zip Code  \\\n",
       "count   20321        20321     20316   20322    20320   \n",
       "unique      4         3141      1371     108     5190   \n",
       "top      Male  Saint Louis  Missouri   India    63108   \n",
       "freq    12240         1326      2115    9132     1831   \n",
       "\n",
       "       Graduation Date(YYYY MM)    Current Student Status  \\\n",
       "count                     20321                     20321   \n",
       "unique                      321                         4   \n",
       "top                     2025-05  Graduate Program Student   \n",
       "freq                       2195                      9297   \n",
       "\n",
       "       Current/Intended Major Status Description              Apply Date  \\\n",
       "count                   20318              20322                   20322   \n",
       "unique                    969                  8                   20277   \n",
       "top          Computer Science     Team Allocated  Aug 29, 2023, 05:30:24   \n",
       "freq                     2654              14206                       3   \n",
       "\n",
       "        Opportunity Start Date  \n",
       "count                    19518  \n",
       "unique                      51  \n",
       "top     Aug 07, 2023, 04:30:00  \n",
       "freq                      2323  "
      ]
     },
     "execution_count": 13,
     "metadata": {},
     "output_type": "execute_result"
    }
   ],
   "source": [
    "df.describe()"
   ]
  },
  {
   "cell_type": "code",
   "execution_count": 14,
   "metadata": {
    "colab": {
     "base_uri": "https://localhost:8080/"
    },
    "id": "7WVhqZBzRexX",
    "outputId": "c5975647-ba88-4ea6-f3cf-a4c2bc71c7fa"
   },
   "outputs": [
    {
     "data": {
      "text/plain": [
       "0"
      ]
     },
     "execution_count": 14,
     "metadata": {},
     "output_type": "execute_result"
    }
   ],
   "source": [
    "df.duplicated().sum()"
   ]
  },
  {
   "cell_type": "code",
   "execution_count": 15,
   "metadata": {
    "colab": {
     "base_uri": "https://localhost:8080/"
    },
    "id": "5M_fbsHhRnk-",
    "outputId": "d1a05168-5e1f-4626-f3cb-d77e8f63a58b"
   },
   "outputs": [
    {
     "name": "stdout",
     "output_type": "stream",
     "text": [
      "<class 'pandas.core.frame.DataFrame'>\n",
      "RangeIndex: 20322 entries, 0 to 20321\n",
      "Data columns (total 16 columns):\n",
      " #   Column                    Non-Null Count  Dtype \n",
      "---  ------                    --------------  ----- \n",
      " 0   Profile Id                20322 non-null  object\n",
      " 1   Opportunity Id            20322 non-null  object\n",
      " 2   Opportunity Name          20322 non-null  object\n",
      " 3   Opportunity Category      20322 non-null  object\n",
      " 4   Opportunity End Date      20322 non-null  object\n",
      " 5   Gender                    20321 non-null  object\n",
      " 6   City                      20321 non-null  object\n",
      " 7   State                     20316 non-null  object\n",
      " 8   Country                   20322 non-null  object\n",
      " 9   Zip Code                  20320 non-null  object\n",
      " 10  Graduation Date(YYYY MM)  20321 non-null  object\n",
      " 11  Current Student Status    20321 non-null  object\n",
      " 12  Current/Intended Major    20318 non-null  object\n",
      " 13  Status Description        20322 non-null  object\n",
      " 14  Apply Date                20322 non-null  object\n",
      " 15  Opportunity Start Date    19518 non-null  object\n",
      "dtypes: object(16)\n",
      "memory usage: 2.5+ MB\n"
     ]
    }
   ],
   "source": [
    "df.info()"
   ]
  },
  {
   "cell_type": "code",
   "execution_count": 16,
   "metadata": {
    "id": "8YQjTpkvTkLR"
   },
   "outputs": [],
   "source": [
    "df['Opportunity End Date'] = pd.to_datetime(df['Opportunity End Date'])\n",
    "df['Opportunity Start Date'] = pd.to_datetime(df['Opportunity Start Date'])"
   ]
  },
  {
   "cell_type": "code",
   "execution_count": 17,
   "metadata": {
    "id": "5D9-Pr0-WotE"
   },
   "outputs": [],
   "source": [
    "df['Apply Date'] = pd.to_datetime(df['Apply Date'], errors='coerce')\n",
    "df['Graduation Date(YYYY MM)'] = pd.to_datetime(df['Graduation Date(YYYY MM)'], errors='coerce')\n"
   ]
  },
  {
   "cell_type": "markdown",
   "metadata": {
    "id": "aFY2Y_6PVwNk"
   },
   "source": [
    "#Feature Engineering"
   ]
  },
  {
   "cell_type": "code",
   "execution_count": 18,
   "metadata": {
    "id": "H7FvDEPKUv0v"
   },
   "outputs": [],
   "source": [
    "df['Opportunity Duration'] = (df['Opportunity End Date'] - df['Opportunity Start Date']).dt.days"
   ]
  },
  {
   "cell_type": "code",
   "execution_count": 19,
   "metadata": {
    "id": "E2tzzjBwVuGQ"
   },
   "outputs": [],
   "source": [
    "df['Application Lead Time'] = (df['Opportunity Start Date'] - df['Apply Date']).dt.days\n"
   ]
  },
  {
   "cell_type": "markdown",
   "metadata": {
    "id": "xsFpLjpmaL75"
   },
   "source": [
    "#Data Transformation"
   ]
  },
  {
   "cell_type": "code",
   "execution_count": 20,
   "metadata": {
    "id": "1pwyfwjdY7pd"
   },
   "outputs": [],
   "source": [
    "le = LabelEncoder()\n",
    "df['Opportunity Category'] = le.fit_transform(df['Opportunity Category'])\n",
    "df['Gender'] = le.fit_transform(df['Gender'])\n",
    "df['Current Student Status'] = le.fit_transform(df['Current Student Status'])\n",
    "df['Status Description'] = le.fit_transform(df['Status Description'])"
   ]
  },
  {
   "cell_type": "code",
   "execution_count": 22,
   "metadata": {
    "id": "Al6RW-R4Z22u"
   },
   "outputs": [],
   "source": [
    "df.to_csv('clean_preprocess_opportunity_wise_data.csv', index=False)"
   ]
  },
  {
   "cell_type": "code",
   "execution_count": null,
   "metadata": {},
   "outputs": [],
   "source": []
  }
 ],
 "metadata": {
  "colab": {
   "provenance": []
  },
  "kernelspec": {
   "display_name": "Python 3 (ipykernel)",
   "language": "python",
   "name": "python3"
  },
  "language_info": {
   "codemirror_mode": {
    "name": "ipython",
    "version": 3
   },
   "file_extension": ".py",
   "mimetype": "text/x-python",
   "name": "python",
   "nbconvert_exporter": "python",
   "pygments_lexer": "ipython3",
   "version": "3.9.12"
  }
 },
 "nbformat": 4,
 "nbformat_minor": 1
}
